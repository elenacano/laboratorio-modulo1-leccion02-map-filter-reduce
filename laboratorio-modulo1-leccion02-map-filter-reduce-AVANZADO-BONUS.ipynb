{
 "cells": [
  {
   "cell_type": "markdown",
   "metadata": {},
   "source": [
    "\n",
    "<div style=\"text-align: center;\">\n",
    "  <img src=\"https://github.com/Hack-io-Data/Imagenes/blob/main/01-LogosHackio/logo_celeste@4x.png?raw=true\" alt=\"esquema\" />\n",
    "</div>\n"
   ]
  },
  {
   "cell_type": "markdown",
   "metadata": {
    "vscode": {
     "languageId": "plaintext"
    }
   },
   "source": [
    "#### Ejercicio 1. Transformar y agregar listas de diccionarios:\n",
    "Dada una lista de diccionarios que representan productos con nombre, precio y cantidad, usa `map` para calcular el costo total de cada producto (precio * cantidad). Luego, usa `reduce` para sumar los costos totales y obtener el gasto total.\n",
    "\n",
    "```python\n",
    "productos = [\n",
    "    {'nombre': 'camisa', 'precio': 50, 'cantidad': 3},\n",
    "    {'nombre': 'pantalon', 'precio': 100, 'cantidad': 2},\n",
    "    {'nombre': 'zapatos', 'precio': 150, 'cantidad': 1}\n",
    "]\n",
    "# Resultado esperado: 450 + 200 + 150 = 800\n",
    "```"
   ]
  },
  {
   "cell_type": "code",
   "execution_count": 1,
   "metadata": {},
   "outputs": [],
   "source": [
    "from functools import reduce"
   ]
  },
  {
   "cell_type": "code",
   "execution_count": 2,
   "metadata": {},
   "outputs": [],
   "source": [
    "productos = [\n",
    "    {'nombre': 'camisa', 'precio': 50, 'cantidad': 3},\n",
    "    {'nombre': 'pantalon', 'precio': 100, 'cantidad': 2},\n",
    "    {'nombre': 'zapatos', 'precio': 150, 'cantidad': 1}\n",
    "]"
   ]
  },
  {
   "cell_type": "code",
   "execution_count": 3,
   "metadata": {},
   "outputs": [
    {
     "name": "stdout",
     "output_type": "stream",
     "text": [
      "El coste total es: 500\n"
     ]
    }
   ],
   "source": [
    "coste = list(map(lambda x: x['precio']*x['cantidad'], productos))\n",
    "total = reduce(lambda x,y: x+y, coste)\n",
    "print(f'El coste total es: {total}')"
   ]
  },
  {
   "cell_type": "markdown",
   "metadata": {},
   "source": [
    "#### Ejercicio 2. Combinar `map` y `filter` para detectar números perfectos:\n",
    "\n",
    "Un número es perfecto si la suma de sus divisores propios es igual a sí mismo. Dada una lista de números, usa `filter` para seleccionar los números perfectos, y usa `map` para devolver una lista con el mensaje `\"<número> es perfecto\"`.\n",
    "```python\n",
    "numeros = [6, 28, 496, 8128, 33550336, 7, 12]\n",
    "# Resultado esperado: ['6 es perfecto', '28 es perfecto', '496 es perfecto', '8128 es perfecto']\n",
    "```\n"
   ]
  },
  {
   "cell_type": "code",
   "execution_count": 4,
   "metadata": {},
   "outputs": [],
   "source": [
    "def perfecto(numero):\n",
    "    suma =0\n",
    "    for i in range(1, numero):\n",
    "        if numero % i == 0:\n",
    "            suma += i\n",
    "    if numero == suma:\n",
    "        return True\n",
    "    else:\n",
    "        False"
   ]
  },
  {
   "cell_type": "code",
   "execution_count": 5,
   "metadata": {},
   "outputs": [
    {
     "name": "stdout",
     "output_type": "stream",
     "text": [
      "['6 es perfecto', '28 es perfecto', '496 es perfecto', '8128 es perfecto', '33550336 es perfecto']\n"
     ]
    }
   ],
   "source": [
    "numeros = [6, 28, 496, 8128, 33550336, 7, 12]\n",
    "perfes = list(filter(perfecto, numeros))\n",
    "perfes_string = list(map(lambda x: str(x)+\" es perfecto\", perfes))\n",
    "print(perfes_string)"
   ]
  },
  {
   "cell_type": "markdown",
   "metadata": {},
   "source": [
    "\n",
    "#### Ejercicio 3. Procesar una lista de fechas:\n",
    "\n",
    "Dada una lista de fechas en formato `YYYY-MM-DD`, usa `map` para convertirlas a una tupla `(año, mes, día)`. Luego, usa `filter` para seleccionar solo las fechas que caen en meses pares.\n",
    "```python\n",
    "fechas = ['2024-03-15', '2023-02-10', '2025-06-21', '2022-12-25']\n",
    "# Resultado esperado: [(2023, 2, 10), (2025, 6, 21), (2022, 12, 25)]\n",
    "```"
   ]
  },
  {
   "cell_type": "code",
   "execution_count": 6,
   "metadata": {},
   "outputs": [],
   "source": [
    "def transformacion(fecha):\n",
    "    fecha = fecha.split('-')\n",
    "    for i in range(len(fecha)):\n",
    "        fecha[i] = int(fecha[i])\n",
    "    return tuple(fecha)\n",
    "    "
   ]
  },
  {
   "cell_type": "code",
   "execution_count": 7,
   "metadata": {},
   "outputs": [
    {
     "data": {
      "text/plain": [
       "[(2023, 2, 10), (2025, 6, 21), (2022, 12, 25)]"
      ]
     },
     "execution_count": 7,
     "metadata": {},
     "output_type": "execute_result"
    }
   ],
   "source": [
    "fechas = ['2024-03-15', '2023-02-10', '2025-06-21', '2022-12-25']\n",
    "fechas2 = list(map(transformacion, fechas))\n",
    "fechas3= list(filter(lambda x: x[1]%2==0, fechas2))\n",
    "fechas3"
   ]
  },
  {
   "cell_type": "markdown",
   "metadata": {},
   "source": [
    "\n",
    "\n",
    "#### Ejercicio 4. Suma condicional de listas anidadas:\n",
    "\n",
    "   Dada una lista de listas de números, usa `map` y `filter` para seleccionar las sublistas donde todos los elementos sean pares. Luego, usa `reduce` para sumar todos los números de esas sublistas seleccionadas.\n",
    "   ```python\n",
    "   numeros = [[2, 4, 6], [1, 3, 5], [8, 10], [7, 9], [12, 14]]\n",
    "   # Resultado esperado: 2 + 4 + 6 + 8 + 10 + 12 + 14 = 56\n",
    "   ```"
   ]
  },
  {
   "cell_type": "code",
   "execution_count": 8,
   "metadata": {},
   "outputs": [],
   "source": [
    "def son_pares(lista):\n",
    "    for elem in lista:\n",
    "        if elem %2==1:\n",
    "            return False\n",
    "    return True"
   ]
  },
  {
   "cell_type": "code",
   "execution_count": 144,
   "metadata": {},
   "outputs": [
    {
     "data": {
      "text/plain": [
       "56"
      ]
     },
     "execution_count": 144,
     "metadata": {},
     "output_type": "execute_result"
    }
   ],
   "source": [
    "numeros = [[2, 4, 6], [1, 3, 5], [8, 10], [7, 9], [12, 14]]\n",
    "\n",
    "sublistas_pares = list(filter(son_pares, numeros))\n",
    "sumas= reduce(lambda x,y: [sum(x)+sum(y)], sublistas_pares)\n",
    "sumas[0]"
   ]
  },
  {
   "cell_type": "markdown",
   "metadata": {},
   "source": [
    "#### Ejercicio 5. Filtrar y agrupar datos de empleados:\n",
    "   Dada una lista de diccionarios que representan empleados con nombre, salario y departamento, usa `filter` para seleccionar los empleados cuyo salario sea mayor a 4000 y luego usa `map` para agrupar los nombres de empleados por departamento.\n",
    "   ```python\n",
    "   empleados = [\n",
    "       {'nombre': 'Ana', 'salario': 4500, 'departamento': 'TI'},\n",
    "       {'nombre': 'Luis', 'salario': 3500, 'departamento': 'Marketing'},\n",
    "       {'nombre': 'Pedro', 'salario': 5000, 'departamento': 'TI'},\n",
    "       {'nombre': 'Marta', 'salario': 4200, 'departamento': 'Ventas'}\n",
    "   ]\n",
    "   # Resultado esperado: {'TI': ['Ana', 'Pedro'], 'Ventas': ['Marta']}\n",
    "   ```"
   ]
  },
  {
   "cell_type": "code",
   "execution_count": 98,
   "metadata": {},
   "outputs": [],
   "source": [
    "empleados = [\n",
    "       {'nombre': 'Ana', 'salario': 4500, 'departamento': 'TI'},\n",
    "       {'nombre': 'Luis', 'salario': 3500, 'departamento': 'Marketing'},\n",
    "       {'nombre': 'Pedro', 'salario': 5000, 'departamento': 'TI'},\n",
    "       {'nombre': 'Marta', 'salario': 4200, 'departamento': 'Ventas'}\n",
    "   ]"
   ]
  },
  {
   "cell_type": "code",
   "execution_count": 99,
   "metadata": {},
   "outputs": [],
   "source": [
    "def por_departamento(dic, sol = dict()):\n",
    "    if dic['departamento'] in sol:\n",
    "        sol[dic['departamento']].append(dic['nombre'])\n",
    "    else:\n",
    "        sol[dic['departamento']]= [dic['nombre']]\n",
    "    return sol\n"
   ]
  },
  {
   "cell_type": "code",
   "execution_count": 100,
   "metadata": {},
   "outputs": [
    {
     "name": "stdout",
     "output_type": "stream",
     "text": [
      "{'TI': ['Ana', 'Pedro'], 'Ventas': ['Marta']}\n"
     ]
    }
   ],
   "source": [
    "#Esto es en sucio\n",
    "\n",
    "salario_alto=list(filter(lambda x: x['salario']>4000, empleados))\n",
    "diccionario = dict()\n",
    "\n",
    "for elemento in salario_alto:\n",
    "    por_departamento(elemento, diccionario)\n",
    "    \n",
    "print(diccionario)"
   ]
  },
  {
   "cell_type": "code",
   "execution_count": 101,
   "metadata": {},
   "outputs": [
    {
     "name": "stdout",
     "output_type": "stream",
     "text": [
      "[{'nombre': 'Ana', 'salario': 4500, 'departamento': 'TI'}, {'nombre': 'Pedro', 'salario': 5000, 'departamento': 'TI'}, {'nombre': 'Marta', 'salario': 4200, 'departamento': 'Ventas'}]\n"
     ]
    },
    {
     "data": {
      "text/plain": [
       "{'TI': ['Ana', 'Pedro'], 'Ventas': ['Marta']}"
      ]
     },
     "execution_count": 101,
     "metadata": {},
     "output_type": "execute_result"
    }
   ],
   "source": [
    "salario_alto=list(filter(lambda x: x['salario']>4000, empleados))\n",
    "print(salario_alto)\n",
    "\n",
    "res2=list(map(por_departamento, salario_alto))\n",
    "res2[0]\n"
   ]
  },
  {
   "cell_type": "markdown",
   "metadata": {},
   "source": [
    "#### Ejercicio 6. Eliminar duplicados sin usar `set`:\n",
    "\n",
    "   Dada una lista de números, usa `filter` y `map` para eliminar duplicados manteniendo el orden de aparición, sin usar estructuras como `set`.\n",
    "   ```python\n",
    "   numeros = [1, 2, 2, 3, 4, 4, 5]\n",
    "   # Resultado esperado: [1, 2, 3, 4, 5]\n",
    "   ```\n"
   ]
  },
  {
   "cell_type": "code",
   "execution_count": null,
   "metadata": {},
   "outputs": [],
   "source": []
  },
  {
   "cell_type": "markdown",
   "metadata": {
    "vscode": {
     "languageId": "plaintext"
    }
   },
   "source": [
    "#### Ejercicio 7. Calculadora de operaciones matemáticas sobre una lista:\n",
    "\n",
    "   Dada una lista de números y una lista de operaciones (representadas como cadenas, como 'sum', 'mul', 'div'), usa `map` para aplicar cada operación secuencialmente a los números. Por ejemplo, si la operación es 'sum', suma los elementos; si es 'mul', multiplícalos.\n",
    "   ```python\n",
    "   numeros = [2, 3, 4]\n",
    "   operaciones = ['sum', 'mul', 'div']\n",
    "   # Resltado esperado: (Suma: 9, Multiplicación: 24, División: Resultado de dividir 2 entre 3 entre 4)\n",
    "   ```"
   ]
  },
  {
   "cell_type": "code",
   "execution_count": 108,
   "metadata": {},
   "outputs": [
    {
     "name": "stdout",
     "output_type": "stream",
     "text": [
      "Suma: 9\n",
      "Multiplicación: 24\n",
      "División: 0.16666666666666666\n"
     ]
    }
   ],
   "source": [
    "numeros = [2, 3, 4]\n",
    "operaciones = ['sum', 'mul', 'div']\n",
    "\n",
    "def op(operador):\n",
    "    if operador == 'sum':\n",
    "        print(f'Suma: {reduce(lambda x,y: x+y, numeros)}')\n",
    "    elif operador == 'mul':\n",
    "        print(f'Multiplicación: {reduce(lambda x,y: x*y, numeros)}')\n",
    "    elif operador == 'div':\n",
    "        print(f'División: {reduce(lambda x,y: x/y, numeros)}')\n",
    "\n",
    "aux = list(map(op, operaciones))"
   ]
  },
  {
   "cell_type": "markdown",
   "metadata": {},
   "source": [
    "#### Ejercicio 8. Filtros encadenados y transformación de datos:\n",
    "\n",
    "Dada una lista de diccionarios que representan productos con nombre, categoría y precio, usa `filter` para seleccionar los productos de una categoría específica. Luego, usa `map` para aplicar un descuento del 20% a los precios y transformar el diccionario en una nueva lista de tuplas `(nombre, nuevo_precio)`.\n",
    "\n",
    "```python\n",
    "productos = [\n",
    "    {'nombre': 'camisa', 'categoria': 'ropa', 'precio': 50},\n",
    "    {'nombre': 'pantalon', 'categoria': 'ropa', 'precio': 100},\n",
    "    {'nombre': 'libro', 'categoria': 'literatura', 'precio': 25}\n",
    "]\n",
    "# Resultado esperado: [('camisa', 40.0), ('pantalon', 80.0)]\n",
    "```"
   ]
  },
  {
   "cell_type": "code",
   "execution_count": 107,
   "metadata": {},
   "outputs": [
    {
     "data": {
      "text/plain": [
       "[('camisa', 40.0), ('pantalon', 80.0)]"
      ]
     },
     "execution_count": 107,
     "metadata": {},
     "output_type": "execute_result"
    }
   ],
   "source": [
    "productos = [\n",
    "    {'nombre': 'camisa', 'categoria': 'ropa', 'precio': 50},\n",
    "    {'nombre': 'pantalon', 'categoria': 'ropa', 'precio': 100},\n",
    "    {'nombre': 'libro', 'categoria': 'literatura', 'precio': 25}\n",
    "]\n",
    "categoria = 'ropa'\n",
    "\n",
    "productos_filtrados = list(filter(lambda x: x['categoria'] == categoria, productos))\n",
    "productos_final = list(map(lambda x: (x['nombre'], x['precio']*0.8), productos_filtrados))\n",
    "productos_final"
   ]
  },
  {
   "cell_type": "markdown",
   "metadata": {},
   "source": [
    "\n",
    "#### Ejercicio 9. Combinación de listas con condiciones:\n",
    "\n",
    "   Dadas dos listas de números de igual longitud, usa `map` para generar una nueva lista de tuplas que combine los elementos de ambas listas. Si el elemento de la primera lista es mayor que el de la segunda, crea la tupla con `(elemento_lista1, None)`; si no, crea la tupla con `(None, elemento_lista2)`.\n",
    "   ```python\n",
    "   lista1 = [10, 5, 8]\n",
    "   lista2 = [3, 7, 8]\n",
    "   # Resultado esperado: [(10, None), (None, 7), (None, 8)]\n",
    "   ```"
   ]
  },
  {
   "cell_type": "code",
   "execution_count": 76,
   "metadata": {},
   "outputs": [
    {
     "data": {
      "text/plain": [
       "[(10, None), (None, 7), (None, 8)]"
      ]
     },
     "execution_count": 76,
     "metadata": {},
     "output_type": "execute_result"
    }
   ],
   "source": [
    "lista1 = [10, 5, 8]\n",
    "lista2 = [3, 7, 8]\n",
    "\n",
    "list(map(lambda x, y: (x, None) if x > y else (None,y), lista1, lista2))"
   ]
  },
  {
   "cell_type": "markdown",
   "metadata": {},
   "source": [
    "#### 10. Filtrar y mapear diccionarios con reglas complejas:\n",
    "\n",
    "Dada una lista de diccionarios que representan ventas, filtra las ventas cuyo importe sea mayor a 500 y cuyo cliente esté marcado como 'premium'. Luego usa `map` para transformar cada venta en una cadena que diga `\"<cliente> realizó una compra de <importe>\"`.\n",
    "\n",
    "```python\n",
    "ventas = [\n",
    "    {'cliente': 'Carlos', 'importe': 600, 'premium': True},\n",
    "    {'cliente': 'Ana', 'importe': 450, 'premium': False},\n",
    "    {'cliente': 'Luis', 'importe': 800, 'premium': True},\n",
    "    {'cliente': 'Marta', 'importe': 300, 'premium': True}\n",
    "]\n",
    "# Resultado esperado: ['Carlos realizó una compra de 600', 'Luis realizó una compra de 800']\n",
    "```"
   ]
  },
  {
   "cell_type": "code",
   "execution_count": 64,
   "metadata": {},
   "outputs": [],
   "source": [
    "ventas = [\n",
    "    {'cliente': 'Carlos', 'importe': 600, 'premium': True},\n",
    "    {'cliente': 'Ana', 'importe': 450, 'premium': False},\n",
    "    {'cliente': 'Luis', 'importe': 800, 'premium': True},\n",
    "    {'cliente': 'Marta', 'importe': 300, 'premium': True}\n",
    "]"
   ]
  },
  {
   "cell_type": "code",
   "execution_count": 69,
   "metadata": {},
   "outputs": [
    {
     "data": {
      "text/plain": [
       "['Carlos realizó una compra de 600', 'Luis realizó una compra de 800']"
      ]
     },
     "execution_count": 69,
     "metadata": {},
     "output_type": "execute_result"
    }
   ],
   "source": [
    "ventas_filtradas = list(filter(lambda x: x['importe']>500, ventas))\n",
    "ventas_cadenas = list(map(lambda x: x['cliente']+ \" realizó una compra de \" + str(x['importe']), ventas_filtradas))\n",
    "ventas_cadenas"
   ]
  },
  {
   "cell_type": "markdown",
   "metadata": {
    "vscode": {
     "languageId": "plaintext"
    }
   },
   "source": [
    "#### 11. Agrupación y fusión de intervalos superpuestos\n",
    "\n",
    "Dada una lista de intervalos en forma de tuplas (por ejemplo, `(inicio, fin)`), usa `reduce` para fusionar los intervalos que se superponen o tocan entre sí, y devolver una lista de intervalos fusionados.\n",
    "\n",
    "```python\n",
    "intervalos = [(1, 3), (2, 5), (6, 9), (8, 10)]\n",
    "\n",
    "# Resultado esperado: `[(1, 5), (6, 10)]`\n",
    "```"
   ]
  },
  {
   "cell_type": "code",
   "execution_count": 116,
   "metadata": {},
   "outputs": [
    {
     "name": "stdout",
     "output_type": "stream",
     "text": [
      "(1, 3)\n",
      "(2, 5)\n",
      "[(1, 5)]\n",
      "(1, 5)\n",
      "(6, 9)\n",
      "[(1, 5)]\n",
      "(6, 9)\n",
      "(8, 10)\n",
      "[(1, 5), (6, 10)]\n"
     ]
    }
   ],
   "source": [
    "#No consigo sacar la lista sol de la función pero si la imprimo si que veo bien el resultado :)\n",
    "\n",
    "def superposicion(inter1, inter2, sol = list()):\n",
    "    print(inter1)\n",
    "    print(inter2)\n",
    "    if inter1[1]>inter2[0]:\n",
    "        nuevo = (inter1[0], inter2[1])\n",
    "        sol.append(nuevo)\n",
    "        print(sol)\n",
    "        return nuevo\n",
    "    print(sol)\n",
    "    return inter2\n",
    "\n",
    "\n",
    "intervalos = [(1, 3), (2, 5), (6, 9), (8, 10)]\n",
    "sol =reduce(superposicion, intervalos)"
   ]
  },
  {
   "cell_type": "markdown",
   "metadata": {},
   "source": [
    "#### 12. Cálculo de la matriz de adyacencia acumulada\n",
    "\n",
    "Dada una lista de conexiones entre nodos de un grafo representados como pares `(nodo1, nodo2)`, usa `reduce` para generar una matriz de adyacencia acumulada que represente todas las conexiones en el grafo.\n",
    "\n",
    "```python\n",
    "conexiones = [(0, 1), (1, 2), (0, 2), (2, 3)]\n",
    "nodos = 4  # Número de nodos en el grafo\n",
    "```\n",
    "Usa `reduce` para generar una matriz `n x n` que indique las conexiones directas entre los nodos.\n"
   ]
  },
  {
   "cell_type": "code",
   "execution_count": null,
   "metadata": {},
   "outputs": [],
   "source": []
  },
  {
   "cell_type": "markdown",
   "metadata": {
    "vscode": {
     "languageId": "plaintext"
    }
   },
   "source": [
    "#### 13. Cálculo del promedio ponderado sobre una secuencia de datos\n",
    "\n",
    "Dada una lista de tuplas donde el primer elemento es el valor y el segundo es el peso de ese valor, usa `reduce` para calcular el promedio ponderado de los valores.\n",
    "\n",
    "```python\n",
    "datos = [(70, 1.5), (80, 2.0), (90, 3.0)]\n",
    "\n",
    "# Resultado esperado: el promedio ponderado de los valores basado en los pesos. 82.31.\n",
    "```\n",
    "\n"
   ]
  },
  {
   "cell_type": "code",
   "execution_count": 138,
   "metadata": {},
   "outputs": [
    {
     "name": "stdout",
     "output_type": "stream",
     "text": [
      "82.31\n"
     ]
    }
   ],
   "source": [
    "datos = [(70, 1.5), (80, 2.0), (90, 3.0)]\n",
    "\n",
    "numerador_aux= list(map(lambda x: x[0]*x[1], datos))\n",
    "numerador = reduce(lambda x,y: x+y, numerador_aux)\n",
    "\n",
    "denominador = reduce(lambda x, y: (0, x[1]+y[1]), datos)[1]\n",
    "\n",
    "solucion=numerador/denominador\n",
    "print(round(solucion,2))\n"
   ]
  }
 ],
 "metadata": {
  "kernelspec": {
   "display_name": "Python 3",
   "language": "python",
   "name": "python3"
  },
  "language_info": {
   "codemirror_mode": {
    "name": "ipython",
    "version": 3
   },
   "file_extension": ".py",
   "mimetype": "text/x-python",
   "name": "python",
   "nbconvert_exporter": "python",
   "pygments_lexer": "ipython3",
   "version": "3.12.4"
  }
 },
 "nbformat": 4,
 "nbformat_minor": 2
}
